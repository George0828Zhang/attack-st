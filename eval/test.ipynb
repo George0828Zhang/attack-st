{
 "cells": [
  {
   "cell_type": "code",
   "execution_count": 1,
   "id": "030cbf22",
   "metadata": {},
   "outputs": [],
   "source": [
    "import sys\n",
    "sys.path.insert(0, \"/home/george/utility/fairseq\")\n",
    "sys.path.insert(0, \"../\")\n",
    "%load_ext autoreload\n",
    "%autoreload 2"
   ]
  },
  {
   "cell_type": "code",
   "execution_count": 2,
   "id": "d2815ec2",
   "metadata": {},
   "outputs": [],
   "source": [
    "from fairseq import (\n",
    "    checkpoint_utils,\n",
    "    options,\n",
    "    quantization_utils,\n",
    "    tasks,\n",
    "    utils,\n",
    ")\n",
    "from torchinfo import summary\n",
    "import logging\n",
    "import os\n",
    "import torch"
   ]
  },
  {
   "cell_type": "code",
   "execution_count": 3,
   "id": "28fb1387",
   "metadata": {},
   "outputs": [],
   "source": [
    "user_dir = \"../codebase\"\n",
    "inference_config_yaml = \"/home/george/Projects/attack-st/eval/config_attack.yaml\"\n",
    "checkpoint = \"../exp/checkpoints/covost2_en_asr_transformer_s.pt\"\n",
    "use_cuda = True\n",
    "\n",
    "states = checkpoint_utils.load_checkpoint_to_cpu(\n",
    "    path=checkpoint, arg_overrides=None, load_on_all_ranks=False)\n",
    "cfg = states[\"cfg\"]\n",
    "cfg.task.config_yaml = inference_config_yaml\n",
    "cfg.common.user_dir = user_dir"
   ]
  },
  {
   "cell_type": "code",
   "execution_count": 4,
   "id": "9a074b7c",
   "metadata": {},
   "outputs": [],
   "source": [
    "logging.basicConfig(\n",
    "    format=\"%(asctime)s | %(levelname)s | %(name)s | %(message)s\",\n",
    "    datefmt=\"%Y-%m-%d %H:%M:%S\",\n",
    "    level=os.environ.get(\"LOGLEVEL\", \"INFO\").upper(),\n",
    "    stream=sys.stdout,\n",
    ")\n",
    "logger = logging.getLogger(\"fairseq_cli.train\")"
   ]
  },
  {
   "cell_type": "code",
   "execution_count": 5,
   "id": "d3dcf942",
   "metadata": {},
   "outputs": [
    {
     "name": "stderr",
     "output_type": "stream",
     "text": [
      "2021-12-11 21:19:18 | INFO | fairseq.tasks.speech_to_text | dictionary size (/media/george/Data/covost2-atk/en/external/spm_char.txt): 157\n",
      "2021-12-11 21:19:19 | INFO | fairseq_cli.train | ===========================================================================\n",
      "Layer (type:depth-idx)                             Param #\n",
      "===========================================================================\n",
      "S2TTransformerModel                                --\n",
      "├─S2TTransformerEncoder: 1-1                       --\n",
      "│    └─FairseqDropout: 2-1                         --\n",
      "│    └─Conv1dSubsampler: 2-2                       --\n",
      "│    │    └─ModuleList: 3-1                        1,721,856\n",
      "│    └─SinusoidalPositionalEmbedding: 2-3          --\n",
      "│    └─ModuleList: 2-4                             --\n",
      "│    │    └─TransformerEncoderLayer: 3-2           1,315,072\n",
      "│    │    └─TransformerEncoderLayer: 3-3           1,315,072\n",
      "│    │    └─TransformerEncoderLayer: 3-4           1,315,072\n",
      "│    │    └─TransformerEncoderLayer: 3-5           1,315,072\n",
      "│    │    └─TransformerEncoderLayer: 3-6           1,315,072\n",
      "│    │    └─TransformerEncoderLayer: 3-7           1,315,072\n",
      "│    │    └─TransformerEncoderLayer: 3-8           1,315,072\n",
      "│    │    └─TransformerEncoderLayer: 3-9           1,315,072\n",
      "│    │    └─TransformerEncoderLayer: 3-10          1,315,072\n",
      "│    │    └─TransformerEncoderLayer: 3-11          1,315,072\n",
      "│    │    └─TransformerEncoderLayer: 3-12          1,315,072\n",
      "│    │    └─TransformerEncoderLayer: 3-13          1,315,072\n",
      "│    └─LayerNorm: 2-5                              512\n",
      "├─TransformerDecoderScriptable: 1-2                --\n",
      "│    └─FairseqDropout: 2-6                         --\n",
      "│    └─Embedding: 2-7                              40,192\n",
      "│    └─SinusoidalPositionalEmbedding: 2-8          --\n",
      "│    └─ModuleList: 2-9                             --\n",
      "│    │    └─TransformerDecoderLayerBase: 3-14      1,578,752\n",
      "│    │    └─TransformerDecoderLayerBase: 3-15      1,578,752\n",
      "│    │    └─TransformerDecoderLayerBase: 3-16      1,578,752\n",
      "│    │    └─TransformerDecoderLayerBase: 3-17      1,578,752\n",
      "│    │    └─TransformerDecoderLayerBase: 3-18      1,578,752\n",
      "│    │    └─TransformerDecoderLayerBase: 3-19      1,578,752\n",
      "│    └─LayerNorm: 2-10                             512\n",
      "│    └─Linear: 2-11                                40,192\n",
      "===========================================================================\n",
      "Total params: 27,056,640\n",
      "Trainable params: 27,056,640\n",
      "Non-trainable params: 0\n",
      "===========================================================================\n",
      "2021-12-11 21:19:19 | INFO | fairseq_cli.train | task: SpeechToTextTask\n",
      "2021-12-11 21:19:19 | INFO | fairseq_cli.train | model: S2TTransformerModel\n",
      "2021-12-11 21:19:19 | INFO | fairseq_cli.train | criterion: LabelSmoothedCrossEntropyCriterion\n"
     ]
    }
   ],
   "source": [
    "utils.import_user_module(cfg.common)\n",
    "\n",
    "# Setup task, e.g., translation, language modeling, etc.\n",
    "task = tasks.setup_task(cfg.task)\n",
    "# Build model and criterion\n",
    "model = task.build_model(cfg.model)\n",
    "criterion = task.build_criterion(cfg.criterion)\n",
    "logger.info(summary(model))\n",
    "logger.info(\"task: {}\".format(task.__class__.__name__))\n",
    "logger.info(\"model: {}\".format(model.__class__.__name__))\n",
    "logger.info(\"criterion: {}\".format(criterion.__class__.__name__))"
   ]
  },
  {
   "cell_type": "code",
   "execution_count": 6,
   "id": "2be2d600",
   "metadata": {},
   "outputs": [
    {
     "name": "stderr",
     "output_type": "stream",
     "text": [
      "2021-12-11 21:19:19 | INFO | fairseq_cli.train | loading model(s) from None\n"
     ]
    }
   ],
   "source": [
    "logger.info(\"loading model(s) from {}\".format(cfg.common_eval.path))\n",
    "model = task.build_model(cfg.model)\n",
    "model.load_state_dict(\n",
    "    states[\"model\"], strict=True, model_cfg=cfg.model\n",
    ")\n",
    "\n",
    "# Optimize ensemble for generation\n",
    "if use_cuda:\n",
    "#     model.half()\n",
    "    model.cuda()\n",
    "model.prepare_for_inference_(cfg)"
   ]
  },
  {
   "cell_type": "code",
   "execution_count": 99,
   "id": "30d36d22",
   "metadata": {},
   "outputs": [
    {
     "name": "stderr",
     "output_type": "stream",
     "text": [
      "2021-12-11 22:12:03 | INFO | fairseq.tasks.speech_to_text | pre-tokenizer: {'tokenizer': None}\n",
      "2021-12-11 22:12:03 | INFO | fairseq.tasks.speech_to_text | tokenizer: {'bpe': 'sentencepiece', 'sentencepiece_model': '/media/george/Data/covost2-atk/en/external/spm_char.model'}\n"
     ]
    }
   ],
   "source": [
    "# Handle tokenization and BPE\n",
    "# def decode(\n",
    "#     tensor,\n",
    "#     escape_unk=False,\n",
    "#     unk_string=None,\n",
    "#     include_eos=False,\n",
    "#     separator=None,\n",
    "# ):    \n",
    "#     def token_string(i):\n",
    "#         if i == task.tgt_dict.unk():\n",
    "#             if unk_string is not None:\n",
    "#                 return unk_string\n",
    "#             else:\n",
    "#                 return task.tgt_dict.unk_string(escape_unk)\n",
    "#         else:\n",
    "#             return task.tgt_dict[i]\n",
    "\n",
    "#     sent = [token_string(i) for i in tensor]\n",
    "#     return sent if separator is None else separator.join(sent)\n",
    "\n",
    "pre_tokenizer = task.build_tokenizer(None)\n",
    "bpe_tokenizer = task.build_bpe(None)\n",
    "def decode(toks, escape_unk=False):\n",
    "    s = task.tgt_dict.string(\n",
    "        toks.int().cpu(),\n",
    "        \"sentencepiece\",  # this will handle bpe for us.\n",
    "        # The default unknown string in fairseq is `<unk>`, but\n",
    "        # this is tokenized by sacrebleu as `< unk >`, inflating\n",
    "        # BLEU scores. Instead, we use a somewhat more verbose\n",
    "        # alternative that is unlikely to appear in the real\n",
    "        # reference, but doesn't get split into multiple tokens.\n",
    "        unk_string=(\"UNKNOWNTOKENINREF\" if escape_unk else \"UNKNOWNTOKENINHYP\"),\n",
    "    )\n",
    "    if pre_tokenizer is not None:\n",
    "        s = pre_tokenizer.decode(s)\n",
    "    return s if s else \"UNKNOWNTOKENINHYP\""
   ]
  },
  {
   "cell_type": "code",
   "execution_count": 8,
   "id": "ee361421",
   "metadata": {},
   "outputs": [],
   "source": [
    "wav = \"/home/george/Projects/attack-st/eval/data/wav/common_voice_en_18862286.wav\"\n",
    "sent = \"The rhythm is typically played as a snare rim pattern in bossa nova music.\"\n",
    "trans = \"在博萨诺瓦音乐中，这种节奏通常以响弦边缘的形式演奏。\""
   ]
  },
  {
   "cell_type": "code",
   "execution_count": 9,
   "id": "ee0a04ab",
   "metadata": {},
   "outputs": [],
   "source": [
    "from fairseq.data.audio.speech_to_text_dataset import get_features_or_waveform\n",
    "lines = [wav]\n",
    "lengths = [get_features_or_waveform(p).shape[0] for p in lines]\n",
    "tgt_texts = [sent]"
   ]
  },
  {
   "cell_type": "code",
   "execution_count": 101,
   "id": "ef46611f",
   "metadata": {},
   "outputs": [
    {
     "name": "stderr",
     "output_type": "stream",
     "text": [
      "2021-12-11 22:13:02 | INFO | fairseq.tasks.speech_to_text | pre-tokenizer: {'tokenizer': None}\n",
      "2021-12-11 22:13:02 | INFO | fairseq.tasks.speech_to_text | tokenizer: {'bpe': 'sentencepiece', 'sentencepiece_model': '/media/george/Data/covost2-atk/en/external/spm_char.model'}\n",
      "2021-12-11 22:13:02 | INFO | fairseq.data.audio.speech_to_text_dataset | 'attack' has 0.00% OOV\n",
      "2021-12-11 22:13:02 | INFO | fairseq.data.audio.speech_to_text_dataset | SpeechToTextDataset(split=\"attack\", n_samples=1, prepend_tgt_lang_tag=False, shuffle=False, transforms=None, n_frames_per_step=1\n",
      "2021-12-11 22:13:02 | INFO | fairseq_cli.train | CompositeAudioFeatureTransform(\n",
      "    FBankPyTorch(denormalize=True, num_mel_bins=80, sample_rate=48000)\n",
      "    UtteranceCMVNPyTorch(norm_means=True, norm_vars=True)\n",
      ")\n"
     ]
    }
   ],
   "source": [
    "from fairseq.data.audio.feature_transforms import (\n",
    "    AudioFeatureTransform,\n",
    "    CompositeAudioFeatureTransform,\n",
    "    # register_audio_feature_transform,\n",
    ")\n",
    "from codebase.data.mytranforms import (\n",
    "    UtteranceCMVNPyTorch,\n",
    "    FBankPyTorch\n",
    ")\n",
    "from fairseq.data.audio.speech_to_text_dataset import SpeechToTextDataset\n",
    "\n",
    "\n",
    "            \n",
    "\n",
    "\n",
    "itr = task.get_batch_iterator(\n",
    "    dataset=SpeechToTextDataset(\n",
    "        \"attack\", False, task.data_cfg,\n",
    "        lines, lengths, tgt_texts=tgt_texts, tgt_dict=task.tgt_dict,\n",
    "        pre_tokenizer=task.build_tokenizer(None),\n",
    "        bpe_tokenizer=task.build_bpe(None),\n",
    "    ),\n",
    "    max_sentences=1,\n",
    "    max_positions=60000\n",
    ").next_epoch_itr(shuffle=False)\n",
    "\n",
    "input_transform = CompositeAudioFeatureTransform([\n",
    "    FBankPyTorch(denormalize=True, num_mel_bins=80, sample_rate=48000),\n",
    "    UtteranceCMVNPyTorch(norm_means=True, norm_vars=True)\n",
    "])\n",
    "logger.info(input_transform)"
   ]
  },
  {
   "cell_type": "code",
   "execution_count": 102,
   "id": "2deb2714",
   "metadata": {},
   "outputs": [
    {
     "data": {
      "application/vnd.jupyter.widget-view+json": {
       "model_id": "fb8bf76afb5446698500315515f7c11a",
       "version_major": 2,
       "version_minor": 0
      },
      "text/plain": [
       "  0%|          | 0/1000 [00:00<?, ?it/s]"
      ]
     },
     "metadata": {},
     "output_type": "display_data"
    }
   ],
   "source": [
    "import torch.nn as nn\n",
    "import math\n",
    "from tqdm.auto import tqdm\n",
    "@torch.no_grad()\n",
    "def clamp(x_adv, x, epsilon, margin=1e-6):\n",
    "    #     -31 [-45, -15]\n",
    "    #     dB(x) = max i 20 · log10(xi)\n",
    "    #     dBx(δ) = dB(δ) − dB(x)\n",
    "    epsilon = x.abs() * (10 ** (epsilon / 20)) \n",
    "    tmp = x + (epsilon - margin)\n",
    "    x_adv = torch.where(x_adv > tmp, tmp, x_adv)\n",
    "    tmp = x - (epsilon - margin)\n",
    "    x_adv = torch.where(x_adv < tmp, tmp, x_adv)\n",
    "    return x_adv\n",
    "\n",
    "def ensemble_logits(logits):\n",
    "    \"\"\" expects list of unnormalized logits \"\"\"\n",
    "    N = len(logits)\n",
    "    log_probs = [logit.log_softmax(-1) for logit in logits]\n",
    "    avg_probs = torch.logsumexp(torch.stack(log_probs, dim=0), dim=0) - math.log(N)\n",
    "    return avg_probs\n",
    "\n",
    "def ifgsm(models, sample, loss_fn, epsilon=-31, alpha=1e-3, num_iter=1000):\n",
    "    \"\"\" x is waveform, y is sequence \"\"\"\n",
    "    x = sample[\"net_input\"][\"src_tokens\"]\n",
    "    prev_y = sample[\"net_input\"][\"prev_output_tokens\"]\n",
    "    y = sample[\"target\"]\n",
    "    \n",
    "    bar = tqdm(range(num_iter))\n",
    "    x_adv = x.detach().clone()\n",
    "    for i in bar:\n",
    "        x_adv.requires_grad = True\n",
    "        if x_adv.grad is not None:\n",
    "            x_adv.grad.zero_()\n",
    "        \n",
    "        src_tokens = torch.stack(\n",
    "            [input_transform(t.unsqueeze(0)) for t in x_adv], dim=0)\n",
    "        src_lengths = torch.LongTensor([src_tokens.size(1)]).type_as(prev_y)\n",
    "        \n",
    "        logits = []\n",
    "        for model in models:\n",
    "            logit, _ = model(src_tokens, src_lengths, prev_y)\n",
    "            logits.append(logit)\n",
    "        B, T = y.shape\n",
    "        loss = loss_fn(ensemble_logits(logits).view(B*T, -1), y.view(B*T))\n",
    "        loss.backward()\n",
    "        # loss.backward(retain_graph=True)\n",
    "        grad = x_adv.grad.detach()\n",
    "        x_adv = x_adv + alpha * grad.sign()\n",
    "        x_adv = clamp(x_adv, x, epsilon)\n",
    "        \n",
    "        bar.set_postfix(loss=loss.item())\n",
    "    return x_adv\n",
    "\n",
    "for sample in itr:\n",
    "    ids = sample[\"id\"]\n",
    "    sample = utils.move_to_cuda(sample)\n",
    "    # ifgsm here\n",
    "    wav_adv = ifgsm([model], sample, nn.CrossEntropyLoss(), epsilon=-31, alpha=1e-3, num_iter=1000)"
   ]
  },
  {
   "cell_type": "code",
   "execution_count": 103,
   "id": "ff2f8c38",
   "metadata": {},
   "outputs": [
    {
     "data": {
      "text/plain": [
       "(torch.Size([1, 241920]), torch.Size([1, 241920]))"
      ]
     },
     "execution_count": 103,
     "metadata": {},
     "output_type": "execute_result"
    }
   ],
   "source": [
    "wav_ori = sample[\"net_input\"][\"src_tokens\"]\n",
    "wav_ori.shape, wav_adv.shape"
   ]
  },
  {
   "cell_type": "code",
   "execution_count": 104,
   "id": "1420ebcd",
   "metadata": {},
   "outputs": [
    {
     "data": {
      "text/plain": [
       "[<matplotlib.lines.Line2D at 0x7f5cda7c61c0>]"
      ]
     },
     "execution_count": 104,
     "metadata": {},
     "output_type": "execute_result"
    },
    {
     "data": {
      "image/png": "[encoded data removed]",
      "text/plain": [
       "<Figure size 432x288 with 1 Axes>"
      ]
     },
     "metadata": {
      "needs_background": "light"
     },
     "output_type": "display_data"
    }
   ],
   "source": [
    "import matplotlib.pyplot as plt\n",
    "plt.plot(wav_ori.squeeze().cpu().numpy())\n",
    "plt.plot(wav_adv.squeeze().cpu().numpy())"
   ]
  },
  {
   "cell_type": "code",
   "execution_count": 105,
   "id": "8d84b477",
   "metadata": {},
   "outputs": [
    {
     "data": {
      "text/plain": [
       "[<matplotlib.lines.Line2D at 0x7f5cda79e1f0>]"
      ]
     },
     "execution_count": 105,
     "metadata": {},
     "output_type": "execute_result"
    },
    {
     "data": {
      "image/png": "[encoded data removed]",
      "text/plain": [
       "<Figure size 432x288 with 1 Axes>"
      ]
     },
     "metadata": {
      "needs_background": "light"
     },
     "output_type": "display_data"
    }
   ],
   "source": [
    "plt.plot((wav_adv - wav_ori).squeeze().cpu().numpy())"
   ]
  },
  {
   "cell_type": "code",
   "execution_count": 106,
   "id": "fdf0b603",
   "metadata": {},
   "outputs": [],
   "source": [
    "generator = task.build_generator(\n",
    "    [model], cfg.generation\n",
    ")"
   ]
  },
  {
   "cell_type": "code",
   "execution_count": 108,
   "id": "9ee16057",
   "metadata": {},
   "outputs": [
    {
     "name": "stderr",
     "output_type": "stream",
     "text": [
      "/home/george/utility/fairseq/fairseq/search.py:140: UserWarning: __floordiv__ is deprecated, and its behavior will change in a future version of pytorch. It currently rounds toward 0 (like the 'trunc' function NOT 'floor'). This results in incorrect rounding for negative values. To keep the current behavior, use torch.div(a, b, rounding_mode='trunc'), or for actual floor division, use torch.div(a, b, rounding_mode='floor').\n",
      "  beams_buf = indices_buf // vocab_size\n",
      "/home/george/utility/fairseq/fairseq/sequence_generator.py:658: UserWarning: __floordiv__ is deprecated, and its behavior will change in a future version of pytorch. It currently rounds toward 0 (like the 'trunc' function NOT 'floor'). This results in incorrect rounding for negative values. To keep the current behavior, use torch.div(a, b, rounding_mode='trunc'), or for actual floor division, use torch.div(a, b, rounding_mode='floor').\n",
      "  unfin_idx = bbsz_idx // beam_size\n"
     ]
    }
   ],
   "source": [
    "src_tokens = torch.stack(\n",
    "    [input_transform(t.unsqueeze(0)) for t in wav_ori], dim=0)\n",
    "src_lengths = torch.LongTensor([src_tokens.size(1)]).type_as(sample[\"target\"])\n",
    "sample[\"net_input\"][\"src_tokens\"] = src_tokens\n",
    "sample[\"net_input\"][\"src_lengths\"] = src_lengths\n",
    "hypos = task.inference_step(\n",
    "    generator,\n",
    "    [model],\n",
    "    sample\n",
    ")\n",
    "decode(hypos[0][0]['tokens'])"
   ]
  },
  {
   "cell_type": "code",
   "execution_count": 111,
   "id": "e9af6781",
   "metadata": {},
   "outputs": [
    {
     "data": {
      "text/plain": [
       "'The realimist Dubby played on the sneer-round Helprin and Poatson of Whitlerseck.'"
      ]
     },
     "execution_count": 111,
     "metadata": {},
     "output_type": "execute_result"
    }
   ],
   "source": [
    "src_tokens = torch.stack(\n",
    "    [input_transform(t.unsqueeze(0)) for t in wav_adv], dim=0)\n",
    "src_lengths = torch.LongTensor([src_tokens.size(1)]).type_as(sample[\"target\"])\n",
    "sample[\"net_input\"][\"src_tokens\"] = src_tokens\n",
    "sample[\"net_input\"][\"src_lengths\"] = src_lengths\n",
    "hypos = task.inference_step(\n",
    "    generator,\n",
    "    [model],\n",
    "    sample\n",
    ")\n",
    "decode(hypos[0][0]['tokens'])"
   ]
  },
  {
   "cell_type": "code",
   "execution_count": null,
   "id": "489990dc",
   "metadata": {},
   "outputs": [],
   "source": []
  }
 ],
 "metadata": {
  "kernelspec": {
   "display_name": "Python [conda env:spml]",
   "language": "python",
   "name": "conda-env-spml-py"
  },
  "language_info": {
   "codemirror_mode": {
    "name": "ipython",
    "version": 3
   },
   "file_extension": ".py",
   "mimetype": "text/x-python",
   "name": "python",
   "nbconvert_exporter": "python",
   "pygments_lexer": "ipython3",
   "version": "3.8.10"
  }
 },
 "nbformat": 4,
 "nbformat_minor": 5
}
